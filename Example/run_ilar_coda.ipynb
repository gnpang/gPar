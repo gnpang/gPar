{
 "cells": [
  {
   "cell_type": "markdown",
   "metadata": {},
   "source": [
    "## This is an example to run CWI using gPar\n",
    "\n",
    "This example used a doublet recorded in ILAR\n",
    "\n",
    "In the working directory, it should have a file with array/station's infromation, such as name, lat, lon. Please see the \"ar.ilar\" in this example for the element and format\n",
    "\n",
    "A data folder with name of array's name should be presented in the working directory. In this example, it have a folder named \"ILAR\" \n",
    "\n",
    "In folder \"ILAR\", it has a txt file of doublet list 'db.ILAR.list'. The name of the file is in format of 'db.NAME.list'. Please looking at the example file for its format.\n",
    "\n",
    "It also has a folder \"Data\" to store the waveforms. Waveforms from earthquakes are stored separately in folders named by YYYY.MM.DD.HH.MM.SS. The waveforms are stored in sac format with names of YYYY.MM.DD.HH.NET.STA.CHAN.SAC\n",
    "\n",
    "For each sac file, the header should have coordinates of the station in STLA and STLO"
   ]
  },
  {
   "cell_type": "code",
   "execution_count": 1,
   "metadata": {},
   "outputs": [],
   "source": [
    "import gpar"
   ]
  },
  {
   "cell_type": "markdown",
   "metadata": {},
   "source": [
    "## Create array object in gPar\n",
    "Parameters: \n",
    "            \n",
    "            arrayList: name of array list file\n",
    "            mode: \"db\" or \"eq\". \"db\" means dealing with earthquake double\n",
    "            beamphase: target phase\n",
    "            phase_list\" a list of phase would like to save travel time infromation from Taup\n",
    "            rstime, retime: beginning and the end of time window to select the reference phase for the initial alignment. \n",
    "                            The final windwo would be [reference phase arrival - rstime, refenrence phase arrival + retime]\n",
    "            cstime, cetime: similar to rstime and retime but for target phase\n",
    "            winlen: windown length in second for in CWI\n",
    "            step: length to move the window each step\n",
    "            channel: channel of the seismic data would be used\n",
    "            filt:filter parameter to bandpass filter the waveform\n",
    "            rphase: str, reference phase\n",
    "            domain: 'freq' or 'time', domain of cross-correlation calculation\n",
    "            fittype: 'cos' or 'parabola' method to subsample the cross-correlation \n",
    "            threshold: minimum cross-correlation coefficient to select the traces to perform beamforming \n",
    "            cut: minimum traces in an array"
   ]
  },
  {
   "cell_type": "code",
   "execution_count": 2,
   "metadata": {},
   "outputs": [
    {
     "name": "stdout",
     "output_type": "stream",
     "text": [
      "loading data ILAR: 1998102_2004083\n",
      "Building 1998102_2004083: EV1: 1998-04-12T21:33:47.420; EV2: 2004-03-23T06:20:00.030\n",
      "writing array instance ILAR as ILAR/ILAR.pkl\n"
     ]
    }
   ],
   "source": [
    "ar = gpar.build.createArray(arrayList='ar.ilar',mode='db',beamphase='PKIKP',\n",
    "                            phase_list=['PKIKP','PP','PcP','PKiKP','ScP','SKP','PKP'],\n",
    "                            rstime=10, retime=60, cstime=10.0, cetime=3, \n",
    "                            winlen=3, step=0.05, channel='SHZ',\n",
    "                            filt=[1,3,3,True],rphase='PKP',domain='freq',\n",
    "                            fittype='cos',verb=True,threshold=0.2,cut=7)"
   ]
  },
  {
   "cell_type": "markdown",
   "metadata": {},
   "source": [
    "Running CWI for doublets in array ILAR and generate plot"
   ]
  },
  {
   "cell_type": "code",
   "execution_count": 3,
   "metadata": {},
   "outputs": [
    {
     "name": "stdout",
     "output_type": "stream",
     "text": [
      "Station IL01 is missing, dropping station\n",
      "Station IL01 is missing, dropping station\n",
      "Calculating beamforming for doublet 1998102_2004083 - event 1 1998-04-12T21:33:47.420000Z\n",
      "Shift time is before start of records, padding -1 points staion IL09\n",
      "Shift time is before start of records, padding -1 points staion IL18\n",
      "Shift time is before start of records, padding -1 points staion IL19\n",
      "Calculating beamforming for doublet 1998102_2004083 - event 2 2004-03-23T06:20:00.030000Z\n"
     ]
    }
   ],
   "source": [
    "ilar = ar.ARRAY.iloc[0]\n",
    "for e in ilar.doublet:\n",
    "    e.beamForming(ilar.geometry, steplen=3,step=0.05,\n",
    "                  rstime=20, retime=60, \n",
    "                  cetime=2,cstime=10,\n",
    "                  filt=[1,3,3,True],channel='SHZ')\n",
    "    e.plotBeam()"
   ]
  },
  {
   "cell_type": "markdown",
   "metadata": {},
   "source": [
    "Write result to a pickle file"
   ]
  },
  {
   "cell_type": "code",
   "execution_count": 4,
   "metadata": {},
   "outputs": [
    {
     "name": "stdout",
     "output_type": "stream",
     "text": [
      "writing array instance ILAR as ILAR/ILAR.coda.pkl\n"
     ]
    }
   ],
   "source": [
    "ilar.write('ILAR.coda.pkl')"
   ]
  },
  {
   "cell_type": "code",
   "execution_count": null,
   "metadata": {},
   "outputs": [],
   "source": []
  }
 ],
 "metadata": {
  "kernelspec": {
   "display_name": "Python 3",
   "language": "python",
   "name": "python3"
  },
  "language_info": {
   "codemirror_mode": {
    "name": "ipython",
    "version": 3
   },
   "file_extension": ".py",
   "mimetype": "text/x-python",
   "name": "python",
   "nbconvert_exporter": "python",
   "pygments_lexer": "ipython3",
   "version": "3.7.6"
  }
 },
 "nbformat": 4,
 "nbformat_minor": 2
}
