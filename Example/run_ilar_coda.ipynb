{
 "cells": [
  {
   "cell_type": "code",
   "execution_count": 1,
   "metadata": {},
   "outputs": [],
   "source": [
    "import pandas as pd\n",
    "from obspy.taup import TauPyModel\n",
    "import os\n",
    "import numpy as np"
   ]
  },
  {
   "cell_type": "code",
   "execution_count": 2,
   "metadata": {},
   "outputs": [],
   "source": [
    "silar = pd.read_pickle('./ILAR/same.ILAR.coda.pkl')\n",
    "cilar = pd.read_pickle('./ILAR/c.ILAR.coda.pkl')"
   ]
  },
  {
   "cell_type": "code",
   "execution_count": 3,
   "metadata": {},
   "outputs": [],
   "source": [
    "model = TauPyModel('ak135')"
   ]
  },
  {
   "cell_type": "code",
   "execution_count": 4,
   "metadata": {},
   "outputs": [
    {
     "name": "stdout",
     "output_type": "stream",
     "text": [
      "Calculating beamforming for doublet 2009336_2017171 - event 1 2009-12-02T23:14:00.830000Z\n",
      "Shift time is before start of records, padding -1 points staion IL09\n",
      "Shift time is before start of records, padding -1 points staion IL18\n",
      "Shift time is before start of records, padding -1 points staion IL19\n",
      "Calculating beamforming for doublet 2009336_2017171 - event 2 2017-06-20T12:54:35.910000Z\n",
      "Calculating beamforming for doublet 2004083_2017171 - event 1 2004-03-23T06:20:00.030000Z\n",
      "Shift time is before start of records, padding -1 points staion IL09\n",
      "Shift time is before start of records, padding -1 points staion IL18\n",
      "Shift time is before start of records, padding -1 points staion IL19\n",
      "Calculating beamforming for doublet 2004083_2017171 - event 2 2017-06-20T12:54:35.910000Z\n",
      "Calculating beamforming for doublet 2005008_2015078 - event 1 2005-01-08T07:14:35.900000Z\n",
      "Shift time is before start of records, padding -1 points staion IL09\n",
      "Shift time is before start of records, padding -1 points staion IL18\n",
      "Shift time is before start of records, padding -1 points staion IL19\n",
      "Calculating beamforming for doublet 2005008_2015078 - event 2 2015-03-19T03:49:23.560000Z\n",
      "Calculating beamforming for doublet 2005075_2016240 - event 1 2005-03-16T12:27:06.940000Z\n",
      "Shift time is before start of records, padding -1 points staion IL09\n",
      "Shift time is before start of records, padding -1 points staion IL18\n",
      "Shift time is before start of records, padding -1 points staion IL19\n",
      "Calculating beamforming for doublet 2005075_2016240 - event 2 2016-08-27T04:51:05.460000Z\n",
      "Calculating beamforming for doublet 2005161_2012338 - event 1 2005-06-10T13:08:12.920000Z\n",
      "Shift time is before start of records, padding -1 points staion IL18\n",
      "Calculating beamforming for doublet 2005161_2012338 - event 2 2012-12-03T03:11:10.790000Z\n",
      "Calculating beamforming for doublet 2006120_2014114 - event 1 2006-04-30T03:51:28.080000Z\n",
      "Shift time is before start of records, padding -1 points staion IL18\n",
      "Calculating beamforming for doublet 2006120_2014114 - event 2 2014-04-24T12:46:09.660000Z\n",
      "Station IL01 is missing, dropping station\n",
      "Station IL15 is missing, dropping station\n",
      "Station IL01 is missing, dropping station\n",
      "Station IL15 is missing, dropping station\n",
      "Calculating beamforming for doublet 2006149_2015144 - event 1 2006-05-29T05:20:39.200000Z\n",
      "Shift time is before start of records, padding -1 points staion IL18\n",
      "Calculating beamforming for doublet 2006149_2015144 - event 2 2015-05-24T21:06:41.140000Z\n",
      "Calculating beamforming for doublet 2007082_2013160 - event 1 2007-03-23T17:12:51.620000Z\n",
      "Shift time is before start of records, padding -1 points staion IL18\n",
      "Calculating beamforming for doublet 2007082_2013160 - event 2 2013-06-09T00:21:34.640000Z\n",
      "Station IL10 is missing, dropping station\n",
      "Station IL10 is missing, dropping station\n",
      "Calculating beamforming for doublet 2008293_2015194 - event 1 2008-10-19T02:56:14.100000Z\n",
      "Shift time is before start of records, padding -1 points staion IL09\n",
      "Shift time is before start of records, padding -1 points staion IL18\n",
      "Shift time is before start of records, padding -1 points staion IL19\n",
      "Calculating beamforming for doublet 2008293_2015194 - event 2 2015-07-13T20:16:08.410000Z\n",
      "Calculating beamforming for doublet 2008048_2011051 - event 1 2008-02-17T19:32:09.100000Z\n",
      "Shift time is before start of records, padding -1 points staion IL18\n",
      "Calculating beamforming for doublet 2008048_2011051 - event 2 2011-02-20T17:37:37.320000Z\n"
     ]
    }
   ],
   "source": [
    "refpoint = silar.refPoint\n",
    "cstime = 10\n",
    "retime = 60\n",
    "rstime = 20\n",
    "cut = 1\n",
    "for d in silar.doublet:\n",
    "    ev1 = d.ev1\n",
    "    ev2 = d.ev2\n",
    "    arr1 = model.get_travel_times_geo(source_depth_in_km=ev1['DEP'], source_latitude_in_deg=ev1['LAT'],\n",
    "                                    source_longitude_in_deg=ev1['LON'], receiver_latitude_in_deg=refpoint[0],\n",
    "                                    receiver_longitude_in_deg=refpoint[1], phase_list=['PKIKP','PKP'])\n",
    "    arr2 = model.get_travel_times_geo(source_depth_in_km=ev2['DEP'], source_latitude_in_deg=ev2['LAT'],\n",
    "                                    source_longitude_in_deg=ev2['LON'], receiver_latitude_in_deg=refpoint[0],\n",
    "                                    receiver_longitude_in_deg=refpoint[1], phase_list=['PKIKP','PKP'])\n",
    "    t1 = int(np.absolute(arr1[1].time - arr1[0].time)) - cut\n",
    "    t2 = int(np.absolute(arr2[1].time - arr2[0].time)) - cut\n",
    "    cetime = np.min([t1, t2])\n",
    "    d.getArrival(array=silar)\n",
    "    d.beamForming(geometry=silar.geometry, filt=[1,2,3,True],steplen=3,\n",
    "                 cstime=cstime, rstime=rstime, cetime=cetime, retime=retime)"
   ]
  },
  {
   "cell_type": "code",
   "execution_count": 5,
   "metadata": {},
   "outputs": [
    {
     "name": "stdout",
     "output_type": "stream",
     "text": [
      "writing array instance ILAR as ILAR/same.ILAR.new.coda.pkl\n"
     ]
    }
   ],
   "source": [
    "silar.write('same.ILAR.new.coda.pkl')"
   ]
  },
  {
   "cell_type": "code",
   "execution_count": 7,
   "metadata": {},
   "outputs": [
    {
     "name": "stdout",
     "output_type": "stream",
     "text": [
      "Station IL03 is missing, dropping station\n",
      "Station IL08 is missing, dropping station\n",
      "Station IL13 is missing, dropping station\n",
      "Station IL18 is missing, dropping station\n",
      "Station IL03 is missing, dropping station\n",
      "Station IL08 is missing, dropping station\n",
      "Station IL13 is missing, dropping station\n",
      "Station IL18 is missing, dropping station\n",
      "Calculating beamforming for doublet 2002199_2009125 - event 1 2002-07-18T14:26:51.630000Z\n",
      "Calculating beamforming for doublet 2002199_2009125 - event 2 2009-05-05T06:16:07.350000Z\n",
      "Station IL01 is missing, dropping station\n",
      "Station IL01 is missing, dropping station\n",
      "Calculating beamforming for doublet 1998102_2004083 - event 1 1998-04-12T21:33:47.420000Z\n",
      "Shift time is before start of records, padding -1 points staion IL09\n",
      "Shift time is before start of records, padding -1 points staion IL18\n",
      "Shift time is before start of records, padding -1 points staion IL19\n",
      "Calculating beamforming for doublet 1998102_2004083 - event 2 2004-03-23T06:20:00.030000Z\n",
      "Calculating beamforming for doublet 1998102_2017171 - event 1 1998-04-12T21:33:47.420000Z\n",
      "Shift time is before start of records, padding -1 points staion IL09\n",
      "Shift time is before start of records, padding -1 points staion IL18\n",
      "Shift time is before start of records, padding -1 points staion IL19\n",
      "Calculating beamforming for doublet 1998102_2017171 - event 2 2017-06-20T12:54:35.910000Z\n",
      "Calculating beamforming for doublet 2001342_2014345 - event 1 2001-12-08T06:23:02.690000Z\n",
      "Shift time is before start of records, padding -1 points staion IL09\n",
      "Shift time is before start of records, padding -1 points staion IL18\n",
      "Calculating beamforming for doublet 2001342_2014345 - event 2 2014-12-11T10:41:09.860000Z\n",
      "Calculating beamforming for doublet 2002128_2017349 - event 1 2002-05-08T14:59:53.580000Z\n",
      "Shift time is before start of records, padding -1 points staion IL09\n",
      "Shift time is before start of records, padding -1 points staion IL18\n",
      "Shift time is before start of records, padding -1 points staion IL19\n",
      "Calculating beamforming for doublet 2002128_2017349 - event 2 2017-12-15T21:53:19.860000Z\n",
      "Calculating beamforming for doublet 2002346_2012067 - event 1 2002-12-12T04:16:02.190000Z\n",
      "Shift time is before start of records, padding -1 points staion IL18\n",
      "Calculating beamforming for doublet 2002346_2012067 - event 2 2012-03-07T12:02:52.290000Z\n",
      "Calculating beamforming for doublet 2003146_2017018 - event 1 2003-05-26T08:45:21.770000Z\n",
      "Shift time is before start of records, padding -1 points staion IL18\n",
      "Calculating beamforming for doublet 2003146_2017018 - event 2 2017-01-18T14:52:56.800000Z\n",
      "Calculating beamforming for doublet 2003272_2010083 - event 1 2003-09-29T22:07:05.460000Z\n",
      "Shift time is before start of records, padding -1 points staion IL09\n",
      "Shift time is before start of records, padding -1 points staion IL18\n",
      "Shift time is before start of records, padding -1 points staion IL19\n",
      "Calculating beamforming for doublet 2003272_2010083 - event 2 2010-03-24T03:06:19.670000Z\n",
      "Station IL01 is missing, dropping station\n",
      "Station IL01 is missing, dropping station\n",
      "Calculating beamforming for doublet 2004083_2017171 - event 1 2004-03-23T06:20:00.030000Z\n",
      "Shift time is before start of records, padding -1 points staion IL09\n",
      "Shift time is before start of records, padding -1 points staion IL18\n",
      "Shift time is before start of records, padding -1 points staion IL19\n",
      "Calculating beamforming for doublet 2004083_2017171 - event 2 2017-06-20T12:54:35.910000Z\n",
      "Station IL08 is missing, dropping station\n",
      "Station IL08 is missing, dropping station\n",
      "Calculating beamforming for doublet 2004128_2013307 - event 1 2004-05-07T09:50:31.630000Z\n",
      "Shift time is before start of records, padding -1 points staion IL18\n",
      "Calculating beamforming for doublet 2004128_2013307 - event 2 2013-11-03T17:46:45.030000Z\n",
      "Calculating beamforming for doublet 2003215_2009122 - event 1 2003-08-03T05:38:57.550000Z\n",
      "Shift time is before start of records, padding -1 points staion IL18\n",
      "Calculating beamforming for doublet 2003215_2009122 - event 2 2009-05-02T22:27:07.920000Z\n",
      "Calculating beamforming for doublet 1998102_2009336 - event 1 1998-04-12T21:33:47.420000Z\n",
      "Shift time is before start of records, padding -1 points staion IL09\n",
      "Shift time is before start of records, padding -1 points staion IL18\n",
      "Shift time is before start of records, padding -1 points staion IL19\n",
      "Calculating beamforming for doublet 1998102_2009336 - event 2 2009-12-02T23:14:00.830000Z\n",
      "Station IL01 is missing, dropping station\n",
      "Station IL01 is missing, dropping station\n",
      "Calculating beamforming for doublet 2004083_2009336 - event 1 2004-03-23T06:20:00.030000Z\n",
      "Shift time is before start of records, padding -1 points staion IL09\n",
      "Shift time is before start of records, padding -1 points staion IL18\n",
      "Shift time is before start of records, padding -1 points staion IL19\n",
      "Calculating beamforming for doublet 2004083_2009336 - event 2 2009-12-02T23:14:00.830000Z\n"
     ]
    }
   ],
   "source": [
    "refpoint = cilar.refPoint\n",
    "times = pd.read_csv('./ILAR/ctime.txt', delimiter='\\s+')\n",
    "cstime = 10\n",
    "retime = 60\n",
    "rstime = 20\n",
    "cut = 3\n",
    "for d in cilar.doublet:\n",
    "    ev1 = d.ev1\n",
    "    ev2 = d.ev2\n",
    "    #arr1 = model.get_travel_times_geo(source_depth_in_km=ev1['DEP'], source_latitude_in_deg=ev1['LAT'],\n",
    "     #                               source_longitude_in_deg=ev1['LON'], receiver_latitude_in_deg=refpoint[0],\n",
    "      #                              receiver_longitude_in_deg=refpoint[1], phase_list=['PKIKP','PKP'])\n",
    "    #arr2 = model.get_travel_times_geo(source_depth_in_km=ev2['DEP'], source_latitude_in_deg=ev2['LAT'],\n",
    "     #                               source_longitude_in_deg=ev2['LON'], receiver_latitude_in_deg=refpoint[0],\n",
    "      #                              receiver_longitude_in_deg=refpoint[1], phase_list=['PKIKP','PKP'])\n",
    "    #t1 = int(np.absolute(arr1[1].time - arr1[0].time)) - cut\n",
    "    #t2 = int(np.absolute(arr2[1].time - arr2[0].time)) - cut\n",
    "    tmp = times[times.ID == d.ID]\n",
    "    if len(tmp) == 0:\n",
    "        cetime = 3\n",
    "    else:\n",
    "        cetime = tmp.iloc[0].win    \n",
    "    d.getArrival(array=cilar)\n",
    "    d.beamForming(geometry=cilar.geometry, filt=[1,2,3,True],steplen=3,\n",
    "                 cstime=cstime, rstime=rstime, cetime=cetime, retime=retime)"
   ]
  },
  {
   "cell_type": "code",
   "execution_count": 8,
   "metadata": {},
   "outputs": [
    {
     "name": "stdout",
     "output_type": "stream",
     "text": [
      "writing array instance ILAR as ILAR/c.ILAR.new.coda.pkl\n"
     ]
    }
   ],
   "source": [
    "cilar.write('c.ILAR.new.coda.pkl')"
   ]
  },
  {
   "cell_type": "code",
   "execution_count": 9,
   "metadata": {},
   "outputs": [
    {
     "name": "stdout",
     "output_type": "stream",
     "text": [
      "/uufs/chpc.utah.edu/common/home/koper-group1/guanning/Innercore/Doublet/YANG.2020/Coda/ILAR/BeamFig/Same\n"
     ]
    }
   ],
   "source": [
    "cd /uufs/chpc.utah.edu/common/home/koper-group1/guanning/Innercore/Doublet/YANG.2020/Coda/ILAR/BeamFig/Same"
   ]
  },
  {
   "cell_type": "code",
   "execution_count": 10,
   "metadata": {},
   "outputs": [],
   "source": [
    "refpoint = silar.refPoint\n",
    "cstime = 10\n",
    "retime = 60\n",
    "rstime = 20\n",
    "cut = 3\n",
    "for d in silar.doublet:\n",
    "    ev1 = d.ev1\n",
    "    ev2 = d.ev2\n",
    "    arr1 = model.get_travel_times_geo(source_depth_in_km=ev1['DEP'], source_latitude_in_deg=ev1['LAT'],\n",
    "                                    source_longitude_in_deg=ev1['LON'], receiver_latitude_in_deg=refpoint[0],\n",
    "                                    receiver_longitude_in_deg=refpoint[1], phase_list=['PKIKP','PKP'])\n",
    "    arr2 = model.get_travel_times_geo(source_depth_in_km=ev2['DEP'], source_latitude_in_deg=ev2['LAT'],\n",
    "                                    source_longitude_in_deg=ev2['LON'], receiver_latitude_in_deg=refpoint[0],\n",
    "                                    receiver_longitude_in_deg=refpoint[1], phase_list=['PKIKP','PKP'])\n",
    "    t1 = int(np.absolute(arr1[1].time - arr1[0].time)) - cut\n",
    "    t2 = int(np.absolute(arr2[1].time - arr2[0].time)) - cut\n",
    "    cetime = np.min([t1, t2])\n",
    "    d.plotBeam(steplen=3,)"
   ]
  },
  {
   "cell_type": "code",
   "execution_count": 11,
   "metadata": {},
   "outputs": [
    {
     "name": "stdout",
     "output_type": "stream",
     "text": [
      "/uufs/chpc.utah.edu/common/home/koper-group1/guanning/Innercore/Doublet/YANG.2020/Coda/ILAR/BeamFig/C\n"
     ]
    }
   ],
   "source": [
    "cd ../C"
   ]
  },
  {
   "cell_type": "code",
   "execution_count": 12,
   "metadata": {},
   "outputs": [],
   "source": [
    "refpoint = silar.refPoint\n",
    "cstime = 10\n",
    "retime = 60\n",
    "rstime = 20\n",
    "cut = 3\n",
    "for d in cilar.doublet:\n",
    "    ev1 = d.ev1\n",
    "    ev2 = d.ev2\n",
    "    arr1 = model.get_travel_times_geo(source_depth_in_km=ev1['DEP'], source_latitude_in_deg=ev1['LAT'],\n",
    "                                    source_longitude_in_deg=ev1['LON'], receiver_latitude_in_deg=refpoint[0],\n",
    "                                    receiver_longitude_in_deg=refpoint[1], phase_list=['PKIKP','PKP'])\n",
    "    arr2 = model.get_travel_times_geo(source_depth_in_km=ev2['DEP'], source_latitude_in_deg=ev2['LAT'],\n",
    "                                    source_longitude_in_deg=ev2['LON'], receiver_latitude_in_deg=refpoint[0],\n",
    "                                    receiver_longitude_in_deg=refpoint[1], phase_list=['PKIKP','PKP'])\n",
    "    t1 = int(np.absolute(arr1[1].time - arr1[0].time)) - cut\n",
    "    t2 = int(np.absolute(arr2[1].time - arr2[0].time)) - cut\n",
    "    cetime = np.min([t1, t2])\n",
    "    d.plotBeam(steplen=3,)"
   ]
  },
  {
   "cell_type": "code",
   "execution_count": 13,
   "metadata": {},
   "outputs": [
    {
     "name": "stdout",
     "output_type": "stream",
     "text": [
      "/uufs/chpc.utah.edu/common/home/koper-group1/guanning/Innercore/Doublet/YANG.2020/Coda/ILAR\n"
     ]
    }
   ],
   "source": [
    "cd ../../"
   ]
  },
  {
   "cell_type": "code",
   "execution_count": null,
   "metadata": {},
   "outputs": [],
   "source": []
  }
 ],
 "metadata": {
  "kernelspec": {
   "display_name": "Python 3",
   "language": "python",
   "name": "python3"
  },
  "language_info": {
   "codemirror_mode": {
    "name": "ipython",
    "version": 3
   },
   "file_extension": ".py",
   "mimetype": "text/x-python",
   "name": "python",
   "nbconvert_exporter": "python",
   "pygments_lexer": "ipython3",
   "version": "3.7.6"
  }
 },
 "nbformat": 4,
 "nbformat_minor": 2
}
